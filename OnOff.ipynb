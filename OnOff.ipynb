{
  "nbformat": 4,
  "nbformat_minor": 0,
  "metadata": {
    "kernelspec": {
      "display_name": "Python 3",
      "language": "python",
      "name": "python3"
    },
    "language_info": {
      "codemirror_mode": {
        "name": "ipython",
        "version": 3
      },
      "file_extension": ".py",
      "mimetype": "text/x-python",
      "name": "python",
      "nbconvert_exporter": "python",
      "pygments_lexer": "ipython3",
      "version": "3.7.3"
    },
    "colab": {
      "name": "RESAMPLER(WITH TIMESTAMPS).ipynb",
      "provenance": []
    }
  },
  "cells": [
    {
      "cell_type": "code",
      "metadata": {
        "id": "fXDH8_tYmhRa",
        "colab_type": "code",
        "colab": {}
      },
      "source": [
        "import pandas as pd\n",
        "from matplotlib import pyplot\n",
        "from sklearn.externals import joblib\n",
        "import numpy as np\n",
        "import datetime\n",
        "import pickle"
      ],
      "execution_count": 0,
      "outputs": []
    },
    {
      "cell_type": "code",
      "metadata": {
        "id": "xblQ6Q90mpSt",
        "colab_type": "code",
        "colab": {
          "base_uri": "https://localhost:8080/",
          "height": 34
        },
        "outputId": "d63b3724-83a6-4993-c902-642fcefc0898"
      },
      "source": [
        "from google.colab import drive\n",
        "drive.mount('/content/drive')"
      ],
      "execution_count": 35,
      "outputs": [
        {
          "output_type": "stream",
          "text": [
            "Drive already mounted at /content/drive; to attempt to forcibly remount, call drive.mount(\"/content/drive\", force_remount=True).\n"
          ],
          "name": "stdout"
        }
      ]
    },
    {
      "cell_type": "code",
      "metadata": {
        "id": "Ymx2SBmXmhRx",
        "colab_type": "code",
        "colab": {}
      },
      "source": [
        "path= \"./drive/My Drive/uk dale dataset/channel_2.dat\""
      ],
      "execution_count": 0,
      "outputs": []
    },
    {
      "cell_type": "code",
      "metadata": {
        "id": "ALKlOPt3mhSL",
        "colab_type": "code",
        "colab": {}
      },
      "source": [
        "def string_to_timestamp(string):\n",
        "    date_time_obj = datetime.datetime.strptime(string, '%Y-%m-%d %H:%M:%S')\n",
        "    timestamp = date_time_obj.timestamp()\n",
        "    return timestamp"
      ],
      "execution_count": 0,
      "outputs": []
    },
    {
      "cell_type": "code",
      "metadata": {
        "id": "EdDVIpAu8anr",
        "colab_type": "code",
        "colab": {}
      },
      "source": [
        "class data_prep():\n",
        "    def __init__(self, path):\n",
        "      self.df = pd.read_csv(path, sep='\\s+', header=None)\n",
        "\n",
        "    def resampler(self,time = \"5min\"):\n",
        "      dataframe = self.df.set_index([0])\n",
        "      dataframe.index = pd.to_datetime(dataframe.index,unit = \"s\")\n",
        "      resample = dataframe.resample(time)\n",
        "      self.resampled_data = resample.sum()\n",
        "\n",
        "    def get_resampled_with_timestamp(self):\n",
        "      self.final_data = self.resampled_data.reset_index()\n",
        "\n",
        "    def get_final_data(self):\n",
        "      self.resampler()\n",
        "      self.get_resampled_with_timestamp()\n",
        "      return self.final_data"
      ],
      "execution_count": 0,
      "outputs": []
    },
    {
      "cell_type": "code",
      "metadata": {
        "id": "9xTvRsBQCQJm",
        "colab_type": "code",
        "colab": {}
      },
      "source": [
        "prep = data_prep(path)\n",
        "data = prep.get_final_data()"
      ],
      "execution_count": 0,
      "outputs": []
    },
    {
      "cell_type": "code",
      "metadata": {
        "id": "3jGu38cq6IRC",
        "colab_type": "code",
        "colab": {
          "base_uri": "https://localhost:8080/",
          "height": 206
        },
        "outputId": "8674698b-f891-4a70-e236-b15699c9fe7c"
      },
      "source": [
        "data.head(5)"
      ],
      "execution_count": 99,
      "outputs": [
        {
          "output_type": "execute_result",
          "data": {
            "text/html": [
              "<div>\n",
              "<style scoped>\n",
              "    .dataframe tbody tr th:only-of-type {\n",
              "        vertical-align: middle;\n",
              "    }\n",
              "\n",
              "    .dataframe tbody tr th {\n",
              "        vertical-align: top;\n",
              "    }\n",
              "\n",
              "    .dataframe thead th {\n",
              "        text-align: right;\n",
              "    }\n",
              "</style>\n",
              "<table border=\"1\" class=\"dataframe\">\n",
              "  <thead>\n",
              "    <tr style=\"text-align: right;\">\n",
              "      <th></th>\n",
              "      <th>0</th>\n",
              "      <th>1</th>\n",
              "    </tr>\n",
              "  </thead>\n",
              "  <tbody>\n",
              "    <tr>\n",
              "      <th>0</th>\n",
              "      <td>2012-11-09 22:25:00</td>\n",
              "      <td>409</td>\n",
              "    </tr>\n",
              "    <tr>\n",
              "      <th>1</th>\n",
              "      <td>2012-11-09 22:30:00</td>\n",
              "      <td>965</td>\n",
              "    </tr>\n",
              "    <tr>\n",
              "      <th>2</th>\n",
              "      <td>2012-11-09 22:35:00</td>\n",
              "      <td>967</td>\n",
              "    </tr>\n",
              "    <tr>\n",
              "      <th>3</th>\n",
              "      <td>2012-11-09 22:40:00</td>\n",
              "      <td>917</td>\n",
              "    </tr>\n",
              "    <tr>\n",
              "      <th>4</th>\n",
              "      <td>2012-11-09 22:45:00</td>\n",
              "      <td>380</td>\n",
              "    </tr>\n",
              "  </tbody>\n",
              "</table>\n",
              "</div>"
            ],
            "text/plain": [
              "                    0    1\n",
              "0 2012-11-09 22:25:00  409\n",
              "1 2012-11-09 22:30:00  965\n",
              "2 2012-11-09 22:35:00  967\n",
              "3 2012-11-09 22:40:00  917\n",
              "4 2012-11-09 22:45:00  380"
            ]
          },
          "metadata": {
            "tags": []
          },
          "execution_count": 99
        }
      ]
    },
    {
      "cell_type": "code",
      "metadata": {
        "colab_type": "code",
        "id": "vSdUduAS_Xwl",
        "colab": {}
      },
      "source": [
        "class to_serialised_on_off():\n",
        "    def __init__(self, data):\n",
        "      self.data = data\n",
        "      self.min_ = 0\n",
        "      self.avg_ = 0\n",
        "      self.max_ = 0\n",
        "      self.find_min_max(flag = 1)\n",
        "\n",
        "    def append_to_df(self, val):\n",
        "      self.data.append(val)\n",
        "      self.find_min_max()\n",
        "\n",
        "    def find_min_max(self, flag = 0):\n",
        "      if(flag == 0):\n",
        "        val = self.data.loc[-1][-1]\n",
        "        if( val > self.max_ ):\n",
        "          self.max_ = val\n",
        "        elif( val < self.min_ ):\n",
        "          self.min_ = val\n",
        "        self.avg_ += val/self.data.shape[0]\n",
        "      elif(flag):\n",
        "        self.max_ = max(self.data.loc[:][-1])\n",
        "        self.min_ = min(self.data.loc[:][-1])\n",
        "        self.avg_ = np.mean(self.data.loc[:][-1].values(), axis = 1)\n",
        "\n",
        "      calc_thresh()\n",
        "\n",
        "    def calc_thresh(self):\n",
        "      self.thresh = (self.max_ - self.min_)/self.avg_\n",
        "\n",
        "    def on_off(self, preds):\n",
        "      of = []\n",
        "      for val in preds:\n",
        "        if(val < thresh):\n",
        "          of.append(0)\n",
        "        else:\n",
        "          of.append(1)\n",
        "\n",
        "      return of"
      ],
      "execution_count": 0,
      "outputs": []
    }
  ]
}