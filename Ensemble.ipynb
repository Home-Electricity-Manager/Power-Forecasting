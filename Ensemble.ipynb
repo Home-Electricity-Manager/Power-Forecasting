{
  "nbformat": 4,
  "nbformat_minor": 0,
  "metadata": {
    "kernelspec": {
      "name": "python3",
      "display_name": "Python 3"
    },
    "language_info": {
      "codemirror_mode": {
        "name": "ipython",
        "version": 3
      },
      "file_extension": ".py",
      "mimetype": "text/x-python",
      "name": "python",
      "nbconvert_exporter": "python",
      "pygments_lexer": "ipython3",
      "version": "3.7.3"
    },
    "colab": {
      "name": "Ensemble.ipynb",
      "provenance": [],
      "toc_visible": true,
      "include_colab_link": true
    },
    "accelerator": "GPU"
  },
  "cells": [
    {
      "cell_type": "markdown",
      "metadata": {
        "id": "view-in-github",
        "colab_type": "text"
      },
      "source": [
        "<a href=\"https://colab.research.google.com/github/RachitBansal/AppliancePower_TimeSeries/blob/master/Ensemble.ipynb\" target=\"_parent\"><img src=\"https://colab.research.google.com/assets/colab-badge.svg\" alt=\"Open In Colab\"/></a>"
      ]
    },
    {
      "cell_type": "code",
      "metadata": {
        "id": "rU0SxZHFwyah",
        "colab_type": "code",
        "colab": {}
      },
      "source": [
        "####code to  upload the data and resample the data (day wise)\n",
        "from sklearn.externals import joblib\n",
        "from keras.layers import Dense ,LSTM\n",
        "from keras.models import Sequential \n",
        "from sklearn.metrics import mean_absolute_error,mean_squared_error\n",
        "import pandas as pd\n",
        "import numpy as np\n",
        "from math import sqrt\n",
        "from sklearn.preprocessing import MinMaxScaler\n",
        "import matplotlib.pyplot as plt\n",
        "from matplotlib import pyplot\n",
        "from keras.layers import Dropout\n",
        "from keras.layers import LeakyReLU\n",
        "from keras.layers import LSTM\n",
        "from keras.layers import RepeatVector\n",
        "from keras.layers import TimeDistributed\n",
        "from keras.layers.convolutional import Conv1D\n",
        "from keras.layers.convolutional import MaxPooling1D\n",
        "from keras.layers import Flatten\n",
        "from sklearn.metrics import r2_score as r2\n",
        "import matplotlib.pyplot as plt\n",
        "import tensorflow as tf\n",
        "\n",
        "# import r2\n",
        "# import mane\n",
        "\n",
        "import keras.backend as K\n",
        "\n",
        "import os"
      ],
      "execution_count": 0,
      "outputs": []
    },
    {
      "cell_type": "code",
      "metadata": {
        "id": "vwHoyoEboN9L",
        "colab_type": "code",
        "colab": {
          "base_uri": "https://localhost:8080/",
          "height": 34
        },
        "outputId": "c6fd93d2-33c4-49d1-fb2e-ba67165903d6"
      },
      "source": [
        "from google.colab import drive\n",
        "drive.mount('/content/drive',force_remount=True)"
      ],
      "execution_count": 103,
      "outputs": [
        {
          "output_type": "stream",
          "text": [
            "Mounted at /content/drive\n"
          ],
          "name": "stdout"
        }
      ]
    },
    {
      "cell_type": "code",
      "metadata": {
        "id": "0d5_jy4MoKWz",
        "colab_type": "code",
        "colab": {}
      },
      "source": [
        "file_path = './drive/My Drive/final_resampled_data_5min.pkl'\n",
        "data = joblib.load(file_path)"
      ],
      "execution_count": 0,
      "outputs": []
    },
    {
      "cell_type": "code",
      "metadata": {
        "id": "JdJJrDjhw1En",
        "colab_type": "code",
        "outputId": "b22240f3-a340-49f3-bdc4-647a65fba724",
        "colab": {
          "base_uri": "https://localhost:8080/",
          "height": 34
        }
      },
      "source": [
        "!ls"
      ],
      "execution_count": 105,
      "outputs": [
        {
          "output_type": "stream",
          "text": [
            "drive  sample_data\n"
          ],
          "name": "stdout"
        }
      ]
    },
    {
      "cell_type": "code",
      "metadata": {
        "id": "PJUZ2WAuwyat",
        "colab_type": "code",
        "colab": {}
      },
      "source": [
        "import keras.backend as K\n",
        "\n",
        "def r2_score(y_true, y_pred):\n",
        "    SS_res =  K.sum(K.square(y_true-y_pred))\n",
        "    SS_tot = K.sum(K.square(y_true - K.mean(y_true)))\n",
        "    return (1 - SS_res/(SS_tot + K.epsilon()))"
      ],
      "execution_count": 0,
      "outputs": []
    },
    {
      "cell_type": "code",
      "metadata": {
        "id": "46uhLAGjwya1",
        "colab_type": "code",
        "colab": {}
      },
      "source": [
        "# mane_loss = mane.mane"
      ],
      "execution_count": 0,
      "outputs": []
    },
    {
      "cell_type": "markdown",
      "metadata": {
        "id": "jh3Tf2VKwya8",
        "colab_type": "text"
      },
      "source": [
        "## Data Loading and Preprocessing:"
      ]
    },
    {
      "cell_type": "code",
      "metadata": {
        "id": "CQDj92qzwya-",
        "colab_type": "code",
        "outputId": "1cb98a60-cab7-441b-9e9e-27fceb60a779",
        "colab": {
          "base_uri": "https://localhost:8080/",
          "height": 52
        }
      },
      "source": [
        "print(data[:10,0])"
      ],
      "execution_count": 108,
      "outputs": [
        {
          "output_type": "stream",
          "text": [
            "[0.        0.        0.        0.        0.        0.        2.5121866\n",
            " 0.        0.        0.       ]\n"
          ],
          "name": "stdout"
        }
      ]
    },
    {
      "cell_type": "code",
      "metadata": {
        "id": "0ctodNn1wybD",
        "colab_type": "code",
        "colab": {}
      },
      "source": [
        "# ### importing the data files\n",
        "\n",
        "# # x_year = joblib.load(\"hour_resampled_data.pkl\")\n",
        "# # x_year = x_year.values\n",
        "# # y_year = joblib.load(\"y_year_values.pkl\")\n",
        "\n",
        "# ###slicing the tiestamp from x_year\n",
        "# # timestamps = data[:,0]\n",
        "\n",
        "# #preparing data file for rnn\n",
        "# # rnn_data  = x_year\n",
        "\n",
        "# '''\n",
        "# file = open(\".dat\")\n",
        "# data = file.readlines()\n",
        "# rnn_data=[]\n",
        "# for i in data:\n",
        "#     temp = i.split(\" \")\n",
        "#     rnn_data.append([int(x) for x in temp])\n",
        "# '''\n",
        "\n",
        "# ###changing the data file to dataframe \n",
        "# rnn_data = pd.DataFrame(rnn_data)\n",
        "# final_data = rnn_data.values\n",
        "# # rnn_data = rnn_data.set_index([0])\n",
        "# # rnn_data.index = pd.to_datetime(rnn_data.index,unit = \"s\")\n",
        "\n",
        "# # #resampling the data hourwise\n",
        "# # resampler_day = rnn_data.resample(\"D\")\n",
        "# # day_resampled_data = resampler_day.sum()\n",
        "\n",
        "# #saving the resampled file in the pickle format \n",
        "# #joblib.dump(day_resampled_data,\"day_resampled_data.pkl\")\n",
        "# #changing the dataframe to array\n",
        "# # final_day_array = np.asarray(day_resampled_data)\n",
        "\n",
        "# #selecting the size of\n",
        "# # print() \n",
        "# training_fraction = float(input(\"Enter the fraction of data to be sent to training :\"))\n",
        "# length = len(rnn_data)\n",
        "# train_size = int(training_fraction*length)\n",
        "\n",
        "# errors_saver = {}\n",
        "            "
      ],
      "execution_count": 0,
      "outputs": []
    },
    {
      "cell_type": "code",
      "metadata": {
        "id": "2GkHRR5MoxqX",
        "colab_type": "code",
        "colab": {
          "base_uri": "https://localhost:8080/",
          "height": 34
        },
        "outputId": "85dffda8-9cd5-4a7d-dc95-7268ade2f70b"
      },
      "source": [
        "training_fraction = float(input(\"Enter the fraction of data to be sent to training :\"))\n",
        "length = len(data)\n",
        "train_size = int(training_fraction*length)"
      ],
      "execution_count": 109,
      "outputs": [
        {
          "output_type": "stream",
          "text": [
            "Enter the fraction of data to be sent to training :0.8\n"
          ],
          "name": "stdout"
        }
      ]
    },
    {
      "cell_type": "code",
      "metadata": {
        "id": "SeGk-eropDc1",
        "colab_type": "code",
        "colab": {}
      },
      "source": [
        "final_data = data"
      ],
      "execution_count": 0,
      "outputs": []
    },
    {
      "cell_type": "code",
      "metadata": {
        "id": "9owirsmJTUNE",
        "colab_type": "code",
        "colab": {
          "base_uri": "https://localhost:8080/",
          "height": 34
        },
        "outputId": "b6957855-b87f-454f-9779-d09c76009c52"
      },
      "source": [
        "final_data.shape"
      ],
      "execution_count": 111,
      "outputs": [
        {
          "output_type": "execute_result",
          "data": {
            "text/plain": [
              "(143136, 9)"
            ]
          },
          "metadata": {
            "tags": []
          },
          "execution_count": 111
        }
      ]
    },
    {
      "cell_type": "code",
      "metadata": {
        "scrolled": false,
        "id": "WfbXbhRfwybJ",
        "colab_type": "code",
        "outputId": "00aa9c72-c35e-4d63-b8ef-566ee5508097",
        "colab": {
          "base_uri": "https://localhost:8080/",
          "height": 139
        }
      },
      "source": [
        "for i in range(final_data.shape[1]):\n",
        "    \n",
        "    copy = final_data[:,i:i+1]\n",
        "    sc = MinMaxScaler()\n",
        "    copy = sc.fit_transform(copy)\n",
        "    \n",
        "    #now we are going to divide into training and test set\n",
        "    x_train = final_data[:train_size, i]\n",
        "    y_train = final_data[:train_size, i]\n",
        "    #x_train = x_train.reshape((-1,1,1))\n",
        "    train_x = []\n",
        "    train_y = []\n",
        "    print(\"enter n steps : \")\n",
        "    n_steps = int(input())\n",
        "    list_i = 0\n",
        "    print(\"Entering loop\")\n",
        "    print(x_train.shape)\n",
        "    print(y_train.shape)\n",
        "    k=0\n",
        "    while k<x_train.shape[0]-n_steps-1:\n",
        "        train = x_train[k:k+n_steps]/300\n",
        "        train_x.append([float(x) for x in train])\n",
        "        train_y.append(y_train[k+n_steps]/300)\n",
        "        k= k+1\n",
        "    \n",
        "    train_x = np.asarray(train_x)\n",
        "    train_y = np.asarray(train_y)    \n",
        "    train_x = train_x.reshape((-1,n_steps,1))\n",
        "    train_y = train_y.reshape((-1,1,1))\n",
        "    \n",
        "    x_test = copy[train_size:,:]\n",
        "    y_test = copy[train_size:,:]\n",
        "    #x_test = x_test.reshape((-1,1,1))\n",
        "    test_x = []\n",
        "    test_y = []\n",
        "    k=0\n",
        "    while k<x_test.shape[0]-n_steps-1:\n",
        "        test= x_test[k:k+n_steps,0]/300\n",
        "        test_x.append([x for x in test])\n",
        "        test_y.append(y_test[k+n_steps,:]/300)\n",
        "        k = k+1\n",
        "    test_x = np.asarray(test_x)\n",
        "    test_y = np.asarray(test_y)    \n",
        "    \n",
        "    test_x = test_x.reshape((-1,n_steps,1))\n",
        "    test_y = test_y.reshape((-1,1,1))\n",
        "    \n",
        "    '''\n",
        "    regressor = Sequential()\n",
        "    regressor.add(LSTM(units = 10,activation = \"relu\",input_shape= (None,1)))\n",
        "    regressor.add(Dense(units = 1))\n",
        "    regressor.compile(optimizer = \"adam\",loss = \"mean_squared_error\",metrics = [\"accuracy\"])\n",
        "    regressor.fit(train_x,train_y,epochs = 100 ,batch_size = 7,validation_split = 0.1)\n",
        "    '''\n",
        "    print(\"Enter 1 if you want to process next equipment and 0 if not :\")\n",
        "    decision = int(input())\n",
        "    if decision==1:\n",
        "        pass\n",
        "    else:\n",
        "        break"
      ],
      "execution_count": 112,
      "outputs": [
        {
          "output_type": "stream",
          "text": [
            "enter n steps : \n",
            "128\n",
            "Entering loop\n",
            "(114508,)\n",
            "(114508,)\n",
            "Enter 1 if you want to process next equipment and 0 if not :\n",
            "0\n"
          ],
          "name": "stdout"
        }
      ]
    },
    {
      "cell_type": "code",
      "metadata": {
        "id": "BWCAMPYdwybO",
        "colab_type": "code",
        "outputId": "539be15c-8145-4302-fdf0-3e15101b81c9",
        "colab": {
          "base_uri": "https://localhost:8080/",
          "height": 34
        }
      },
      "source": [
        "print(train_x.shape, train_y.shape)\n",
        "# print(train_x[0][])"
      ],
      "execution_count": 113,
      "outputs": [
        {
          "output_type": "stream",
          "text": [
            "(114379, 128, 1) (114379, 1, 1)\n"
          ],
          "name": "stdout"
        }
      ]
    },
    {
      "cell_type": "markdown",
      "metadata": {
        "id": "QXa7rGl4wybT",
        "colab_type": "text"
      },
      "source": [
        "## Ensemble:"
      ]
    },
    {
      "cell_type": "markdown",
      "metadata": {
        "id": "evhtKS4dwybU",
        "colab_type": "text"
      },
      "source": [
        "### Sub-Models:\n",
        "- Using 3 CNN_LSTMs "
      ]
    },
    {
      "cell_type": "code",
      "metadata": {
        "id": "J3hySRFgwybW",
        "colab_type": "code",
        "outputId": "d52c34b1-1af0-4d82-a655-144413f16150",
        "colab": {
          "base_uri": "https://localhost:8080/",
          "height": 1000
        }
      },
      "source": [
        "def fit_cnn_lstm(x_train, y_train):\n",
        "    \n",
        "    n_timesteps, n_features = x_train.shape[1], x_train.shape[2]\n",
        "    \n",
        "    model = Sequential()\n",
        "    model.add(Conv1D(filters=64, kernel_size=3, activation='relu', input_shape=(n_timesteps,1)))\n",
        "    model.add(Conv1D(filters=64, kernel_size=3, activation='relu'))\n",
        "    model.add(MaxPooling1D(pool_size=2))\n",
        "    model.add(Flatten())\n",
        "    model.add(RepeatVector(1))\n",
        "    model.add(LSTM(200, activation='relu', return_sequences=True))\n",
        "    model.add(TimeDistributed(Dense(100, activation='relu')))\n",
        "    model.add(TimeDistributed(Dense(1)))\n",
        "    model.summary()\n",
        "    model.compile(loss='mse', optimizer='adam',metrics = [\"accuracy\"])\n",
        "\n",
        "    model.fit(x_train, y_train, epochs=10, batch_size=128, verbose = 1)\n",
        "    \n",
        "    return model\n",
        "\n",
        "# os.makedirs('ensemble')\n",
        "\n",
        "# fit and save models\n",
        "n_members = 3\n",
        "for i in range(n_members):\n",
        "    model = fit_cnn_lstm(train_x, train_y)\n",
        "    filename = './drive/My Drive/model_' + str(i + 1) + '.h5'\n",
        "    model.save(filename)\n",
        "    print('>>> Saved %s' % filename)"
      ],
      "execution_count": 55,
      "outputs": [
        {
          "output_type": "stream",
          "text": [
            "Model: \"sequential_16\"\n",
            "_________________________________________________________________\n",
            "Layer (type)                 Output Shape              Param #   \n",
            "=================================================================\n",
            "conv1d_31 (Conv1D)           (None, 126, 64)           256       \n",
            "_________________________________________________________________\n",
            "conv1d_32 (Conv1D)           (None, 124, 64)           12352     \n",
            "_________________________________________________________________\n",
            "max_pooling1d_16 (MaxPooling (None, 62, 64)            0         \n",
            "_________________________________________________________________\n",
            "flatten_8 (Flatten)          (None, 3968)              0         \n",
            "_________________________________________________________________\n",
            "repeat_vector_8 (RepeatVecto (None, 1, 3968)           0         \n",
            "_________________________________________________________________\n",
            "lstm_16 (LSTM)               (None, 1, 200)            3335200   \n",
            "_________________________________________________________________\n",
            "time_distributed_31 (TimeDis (None, 1, 100)            20100     \n",
            "_________________________________________________________________\n",
            "time_distributed_32 (TimeDis (None, 1, 1)              101       \n",
            "=================================================================\n",
            "Total params: 3,368,009\n",
            "Trainable params: 3,368,009\n",
            "Non-trainable params: 0\n",
            "_________________________________________________________________\n",
            "Epoch 1/10\n",
            "114379/114379 [==============================] - 20s 177us/step - loss: 3547.3838 - acc: 0.0365\n",
            "Epoch 2/10\n",
            "114379/114379 [==============================] - 18s 154us/step - loss: 2817.7089 - acc: 0.0707\n",
            "Epoch 3/10\n",
            "114379/114379 [==============================] - 18s 154us/step - loss: 2730.3739 - acc: 0.0692\n",
            "Epoch 4/10\n",
            "114379/114379 [==============================] - 18s 154us/step - loss: 2685.2721 - acc: 0.0697\n",
            "Epoch 5/10\n",
            "114379/114379 [==============================] - 18s 154us/step - loss: 2623.6884 - acc: 0.0714\n",
            "Epoch 6/10\n",
            "114379/114379 [==============================] - 18s 154us/step - loss: 2559.1475 - acc: 0.0647\n",
            "Epoch 7/10\n",
            "114379/114379 [==============================] - 18s 154us/step - loss: 2501.5440 - acc: 0.0649\n",
            "Epoch 8/10\n",
            "114379/114379 [==============================] - 18s 154us/step - loss: 2436.7693 - acc: 0.0731\n",
            "Epoch 9/10\n",
            "114379/114379 [==============================] - 18s 155us/step - loss: 2395.1522 - acc: 0.0749\n",
            "Epoch 10/10\n",
            "114379/114379 [==============================] - 18s 154us/step - loss: 2317.0759 - acc: 0.0731\n",
            ">>> Saved ./drive/My Drive/model_1.h5\n",
            "Model: \"sequential_17\"\n",
            "_________________________________________________________________\n",
            "Layer (type)                 Output Shape              Param #   \n",
            "=================================================================\n",
            "conv1d_33 (Conv1D)           (None, 126, 64)           256       \n",
            "_________________________________________________________________\n",
            "conv1d_34 (Conv1D)           (None, 124, 64)           12352     \n",
            "_________________________________________________________________\n",
            "max_pooling1d_17 (MaxPooling (None, 62, 64)            0         \n",
            "_________________________________________________________________\n",
            "flatten_9 (Flatten)          (None, 3968)              0         \n",
            "_________________________________________________________________\n",
            "repeat_vector_9 (RepeatVecto (None, 1, 3968)           0         \n",
            "_________________________________________________________________\n",
            "lstm_17 (LSTM)               (None, 1, 200)            3335200   \n",
            "_________________________________________________________________\n",
            "time_distributed_33 (TimeDis (None, 1, 100)            20100     \n",
            "_________________________________________________________________\n",
            "time_distributed_34 (TimeDis (None, 1, 1)              101       \n",
            "=================================================================\n",
            "Total params: 3,368,009\n",
            "Trainable params: 3,368,009\n",
            "Non-trainable params: 0\n",
            "_________________________________________________________________\n",
            "Epoch 1/10\n",
            "114379/114379 [==============================] - 21s 181us/step - loss: 3485.9199 - acc: 0.0374\n",
            "Epoch 2/10\n",
            "114379/114379 [==============================] - 17s 152us/step - loss: 2834.3786 - acc: 0.0602\n",
            "Epoch 3/10\n",
            "114379/114379 [==============================] - 18s 154us/step - loss: 2727.1289 - acc: 0.0573\n",
            "Epoch 4/10\n",
            "114379/114379 [==============================] - 18s 156us/step - loss: 2669.3448 - acc: 0.0615\n",
            "Epoch 5/10\n",
            "114379/114379 [==============================] - 17s 151us/step - loss: 2594.1521 - acc: 0.0578\n",
            "Epoch 6/10\n",
            "114379/114379 [==============================] - 17s 152us/step - loss: 2553.5738 - acc: 0.0589\n",
            "Epoch 7/10\n",
            "114379/114379 [==============================] - 18s 154us/step - loss: 2494.2586 - acc: 0.0602\n",
            "Epoch 8/10\n",
            "114379/114379 [==============================] - 17s 152us/step - loss: 2445.7140 - acc: 0.0648\n",
            "Epoch 9/10\n",
            "114379/114379 [==============================] - 17s 152us/step - loss: 2404.9056 - acc: 0.0543\n",
            "Epoch 10/10\n",
            "114379/114379 [==============================] - 17s 153us/step - loss: 2316.3796 - acc: 0.0605\n",
            ">>> Saved ./drive/My Drive/model_2.h5\n",
            "Model: \"sequential_18\"\n",
            "_________________________________________________________________\n",
            "Layer (type)                 Output Shape              Param #   \n",
            "=================================================================\n",
            "conv1d_35 (Conv1D)           (None, 126, 64)           256       \n",
            "_________________________________________________________________\n",
            "conv1d_36 (Conv1D)           (None, 124, 64)           12352     \n",
            "_________________________________________________________________\n",
            "max_pooling1d_18 (MaxPooling (None, 62, 64)            0         \n",
            "_________________________________________________________________\n",
            "flatten_10 (Flatten)         (None, 3968)              0         \n",
            "_________________________________________________________________\n",
            "repeat_vector_10 (RepeatVect (None, 1, 3968)           0         \n",
            "_________________________________________________________________\n",
            "lstm_18 (LSTM)               (None, 1, 200)            3335200   \n",
            "_________________________________________________________________\n",
            "time_distributed_35 (TimeDis (None, 1, 100)            20100     \n",
            "_________________________________________________________________\n",
            "time_distributed_36 (TimeDis (None, 1, 1)              101       \n",
            "=================================================================\n",
            "Total params: 3,368,009\n",
            "Trainable params: 3,368,009\n",
            "Non-trainable params: 0\n",
            "_________________________________________________________________\n",
            "Epoch 1/10\n",
            "114379/114379 [==============================] - 20s 177us/step - loss: 3501.7791 - acc: 0.0354\n",
            "Epoch 2/10\n",
            "114379/114379 [==============================] - 17s 151us/step - loss: 2815.3783 - acc: 0.0540\n",
            "Epoch 3/10\n",
            "114379/114379 [==============================] - 17s 152us/step - loss: 2741.4375 - acc: 0.0694\n",
            "Epoch 4/10\n",
            "114379/114379 [==============================] - 17s 153us/step - loss: 2664.0771 - acc: 0.0670\n",
            "Epoch 5/10\n",
            "114379/114379 [==============================] - 17s 152us/step - loss: 2592.5867 - acc: 0.0632\n",
            "Epoch 6/10\n",
            "114379/114379 [==============================] - 17s 152us/step - loss: 2567.2547 - acc: 0.0604\n",
            "Epoch 7/10\n",
            "114379/114379 [==============================] - 17s 152us/step - loss: 2502.2730 - acc: 0.0642\n",
            "Epoch 8/10\n",
            "114379/114379 [==============================] - 18s 154us/step - loss: 2439.0715 - acc: 0.0679\n",
            "Epoch 9/10\n",
            "114379/114379 [==============================] - 18s 155us/step - loss: 2378.8117 - acc: 0.0698\n",
            "Epoch 10/10\n",
            "114379/114379 [==============================] - 18s 160us/step - loss: 2298.4406 - acc: 0.0696\n",
            ">>> Saved ./drive/My Drive/model_3.h5\n"
          ],
          "name": "stdout"
        }
      ]
    },
    {
      "cell_type": "code",
      "metadata": {
        "id": "Fb-kn9OWwybc",
        "colab_type": "code",
        "outputId": "92ae00a1-5662-4701-b58e-cd74ae44675d",
        "colab": {
          "base_uri": "https://localhost:8080/",
          "height": 86
        }
      },
      "source": [
        "from keras.models import load_model\n",
        "\n",
        "def load_all_models(n_models):\n",
        "    all_models = list()\n",
        "    for i in range(n_models):\n",
        "        # define filename for this ensemble\n",
        "        filename = './drive/My Drive/model_' + str(i + 1) + '.h5'\n",
        "        # load model from file\n",
        "        model = load_model(filename)\n",
        "        # add to list of members\n",
        "        all_models.append(model)\n",
        "        print('>>> loaded %s' % filename)\n",
        "    return all_models\n",
        "\n",
        "n_members = 3\n",
        "members = load_all_models(n_members)\n",
        "print('Loaded %d models' % len(members))"
      ],
      "execution_count": 114,
      "outputs": [
        {
          "output_type": "stream",
          "text": [
            ">>> loaded ./drive/My Drive/model_1.h5\n",
            ">>> loaded ./drive/My Drive/model_2.h5\n",
            ">>> loaded ./drive/My Drive/model_3.h5\n",
            "Loaded 3 models\n"
          ],
          "name": "stdout"
        }
      ]
    },
    {
      "cell_type": "code",
      "metadata": {
        "id": "cMxJxeZ6wybh",
        "colab_type": "code",
        "colab": {}
      },
      "source": [
        "#### Evaluating the 3 CNN_LSTMS Individually"
      ],
      "execution_count": 0,
      "outputs": []
    },
    {
      "cell_type": "code",
      "metadata": {
        "id": "N0J5Ij0Twybn",
        "colab_type": "code",
        "colab": {
          "base_uri": "https://localhost:8080/",
          "height": 69
        },
        "outputId": "304759b3-05ae-4972-fb36-1acc617d265e"
      },
      "source": [
        "for model in members:\n",
        "    # testy_enc = to_categorical(testy)\n",
        "    _, acc = model.evaluate(test_x, test_y, verbose=0)\n",
        "    print('Model Accuracy: %.3f' % acc)"
      ],
      "execution_count": 115,
      "outputs": [
        {
          "output_type": "stream",
          "text": [
            "Model Accuracy: 0.000\n",
            "Model Accuracy: 0.518\n",
            "Model Accuracy: 0.000\n"
          ],
          "name": "stdout"
        }
      ]
    },
    {
      "cell_type": "code",
      "metadata": {
        "id": "o7qiEYVwCaok",
        "colab_type": "code",
        "colab": {}
      },
      "source": [
        "preds = []\n",
        "for i in range(test_x.shape[0]):\n",
        "    preds.append(members[1].predict(test_x[i].reshape(1,-1,1))[0][0][0])"
      ],
      "execution_count": 0,
      "outputs": []
    },
    {
      "cell_type": "code",
      "metadata": {
        "id": "e0N4PkotDOrG",
        "colab_type": "code",
        "colab": {
          "base_uri": "https://localhost:8080/",
          "height": 513
        },
        "outputId": "95e21b06-c15c-44bc-9009-3f738e69a915"
      },
      "source": [
        "import matplotlib.pyplot as plt\n",
        "plt.plot(test_y.reshape(-1), c = 'orange')\n",
        "plt.show()\n",
        "plt.plot(preds, c = 'blue')\n",
        "plt.show()"
      ],
      "execution_count": 131,
      "outputs": [
        {
          "output_type": "display_data",
          "data": {
            "image/png": "[encoded data removed]",
            "text/plain": [
              "<Figure size 432x288 with 1 Axes>"
            ]
          },
          "metadata": {
            "tags": []
          }
        },
        {
          "output_type": "display_data",
          "data": {
            "image/png": "[encoded data removed]",
            "text/plain": [
              "<Figure size 432x288 with 1 Axes>"
            ]
          },
          "metadata": {
            "tags": []
          }
        }
      ]
    },
    {
      "cell_type": "markdown",
      "metadata": {
        "id": "DS8Dza4mwybq",
        "colab_type": "text"
      },
      "source": [
        "### Creating Dataset to go into XGBoost\n",
        "- Outputs from the 3 sub models flow into XGBoost"
      ]
    },
    {
      "cell_type": "code",
      "metadata": {
        "id": "yvlHse1vwybs",
        "colab_type": "code",
        "colab": {}
      },
      "source": [
        "def stacked_dataset(members, inputX):\n",
        "    stackX = None\n",
        "    for model in members:\n",
        "        # make prediction\n",
        "        yhat = model.predict(inputX, verbose=0)\n",
        "        # stack predictions into [rows, members, probabilities]\n",
        "        if stackX is None:\n",
        "            stackX = yhat\n",
        "        else:\n",
        "            stackX = np.dstack((stackX, yhat))\n",
        "\n",
        "    # flatten [rows, members x probabilities]\n",
        "    stackX = stackX.reshape((stackX.shape[0], stackX.shape[1]*stackX.shape[2]))\n",
        "    return stackX"
      ],
      "execution_count": 0,
      "outputs": []
    },
    {
      "cell_type": "code",
      "metadata": {
        "id": "UZ-e65mPrUTd",
        "colab_type": "code",
        "colab": {
          "base_uri": "https://localhost:8080/",
          "height": 89
        },
        "outputId": "cd75b5a2-d8cf-4b4e-d0f8-37fb3055ac48"
      },
      "source": [
        "!pip install xgboost"
      ],
      "execution_count": 68,
      "outputs": [
        {
          "output_type": "stream",
          "text": [
            "Requirement already satisfied: xgboost in /usr/local/lib/python3.6/dist-packages (0.90)\n",
            "Requirement already satisfied: numpy in /usr/local/lib/python3.6/dist-packages (from xgboost) (1.17.4)\n",
            "Requirement already satisfied: scipy in /usr/local/lib/python3.6/dist-packages (from xgboost) (1.3.3)\n"
          ],
          "name": "stdout"
        }
      ]
    },
    {
      "cell_type": "code",
      "metadata": {
        "id": "H9vulhTywybw",
        "colab_type": "code",
        "colab": {}
      },
      "source": [
        "from xgboost import XGBClassifier\n",
        "import xgboost"
      ],
      "execution_count": 0,
      "outputs": []
    },
    {
      "cell_type": "code",
      "metadata": {
        "id": "VfAGnlgSwybz",
        "colab_type": "code",
        "colab": {}
      },
      "source": [
        "def fit_stacked_model(members, inputX, inputy):\n",
        "    # create dataset using ensemble\n",
        "    stackedX = stacked_dataset(members, inputX)\n",
        "    # fit standalone model\n",
        "    model = xgboost.XGBRegressor(objective ='reg:linear', colsample_bytree = 0.3, learning_rate = 0.1, max_depth = 5, alpha = 10, n_estimators = 10)\n",
        "    model.fit(stackedX, inputy)\n",
        "    return model"
      ],
      "execution_count": 0,
      "outputs": []
    },
    {
      "cell_type": "code",
      "metadata": {
        "id": "dwOXaNTUwyb4",
        "colab_type": "code",
        "colab": {
          "base_uri": "https://localhost:8080/",
          "height": 54
        },
        "outputId": "2e9f6545-85a0-4bf0-abd5-8b60a4ae4008"
      },
      "source": [
        "model = fit_stacked_model(members, test_x, test_y)"
      ],
      "execution_count": 81,
      "outputs": [
        {
          "output_type": "stream",
          "text": [
            "[15:04:51] WARNING: /workspace/src/objective/regression_obj.cu:152: reg:linear is now deprecated in favor of reg:squarederror.\n"
          ],
          "name": "stdout"
        }
      ]
    },
    {
      "cell_type": "markdown",
      "metadata": {
        "id": "xab7e8jVwyb7",
        "colab_type": "text"
      },
      "source": [
        "### Compiling Ensemble Model"
      ]
    },
    {
      "cell_type": "code",
      "metadata": {
        "id": "KMVRTOGjwyb9",
        "colab_type": "code",
        "colab": {}
      },
      "source": [
        "def stacked_prediction(members, model, inputX):\n",
        "    # create dataset using ensemble\n",
        "    stackedX = stacked_dataset(members, inputX)\n",
        "    # make a prediction\n",
        "    yhat = model.predict(stackedX)\n",
        "    return yhat"
      ],
      "execution_count": 0,
      "outputs": []
    },
    {
      "cell_type": "markdown",
      "metadata": {
        "id": "C3nIDeYFwycC",
        "colab_type": "text"
      },
      "source": [
        "### Evaluating"
      ]
    },
    {
      "cell_type": "code",
      "metadata": {
        "id": "pBrJZWX-swXt",
        "colab_type": "code",
        "colab": {
          "base_uri": "https://localhost:8080/",
          "height": 191
        },
        "outputId": "a34d684c-8c50-48f3-94c4-6c9b6960d073"
      },
      "source": [
        "for i in range(10):\n",
        "  print(stacked_prediction(members, model, test_x[i].reshape(1,-1,1)))\n",
        "  # print(model.predict(test_x[i]))\n",
        "  # print(y_test[i])"
      ],
      "execution_count": 101,
      "outputs": [
        {
          "output_type": "stream",
          "text": [
            "[0.17490608]\n",
            "[0.17490608]\n",
            "[0.17490608]\n",
            "[0.17490608]\n",
            "[0.17490608]\n",
            "[0.17490608]\n",
            "[0.17490608]\n",
            "[0.17490608]\n",
            "[0.17490608]\n",
            "[0.17490608]\n"
          ],
          "name": "stdout"
        }
      ]
    },
    {
      "cell_type": "code",
      "metadata": {
        "id": "IzbHSGRewycD",
        "colab_type": "code",
        "colab": {
          "base_uri": "https://localhost:8080/",
          "height": 368
        },
        "outputId": "b4444d74-2f86-43dd-b336-a0ad5e5cbdc4"
      },
      "source": [
        "yhat = stacked_prediction(members, model, test_x[:100])\n",
        "acc = r2_score(test_y[:100], yhat)\n",
        "print('--> Stacked Test Accuracy: %.3f' % acc)"
      ],
      "execution_count": 86,
      "outputs": [
        {
          "output_type": "error",
          "ename": "AttributeError",
          "evalue": "ignored",
          "traceback": [
            "\u001b[0;31m---------------------------------------------------------------------------\u001b[0m",
            "\u001b[0;31mAttributeError\u001b[0m                            Traceback (most recent call last)",
            "\u001b[0;32m<ipython-input-86-759d2f3fc572>\u001b[0m in \u001b[0;36m<module>\u001b[0;34m()\u001b[0m\n\u001b[1;32m      1\u001b[0m \u001b[0myhat\u001b[0m \u001b[0;34m=\u001b[0m \u001b[0mstacked_prediction\u001b[0m\u001b[0;34m(\u001b[0m\u001b[0mmembers\u001b[0m\u001b[0;34m,\u001b[0m \u001b[0mmodel\u001b[0m\u001b[0;34m,\u001b[0m \u001b[0mtest_x\u001b[0m\u001b[0;34m[\u001b[0m\u001b[0;34m:\u001b[0m\u001b[0;36m100\u001b[0m\u001b[0;34m]\u001b[0m\u001b[0;34m)\u001b[0m\u001b[0;34m\u001b[0m\u001b[0;34m\u001b[0m\u001b[0m\n\u001b[0;32m----> 2\u001b[0;31m \u001b[0macc\u001b[0m \u001b[0;34m=\u001b[0m \u001b[0mr2_score\u001b[0m\u001b[0;34m(\u001b[0m\u001b[0mtest_y\u001b[0m\u001b[0;34m[\u001b[0m\u001b[0;34m:\u001b[0m\u001b[0;36m100\u001b[0m\u001b[0;34m]\u001b[0m\u001b[0;34m,\u001b[0m \u001b[0myhat\u001b[0m\u001b[0;34m)\u001b[0m\u001b[0;34m\u001b[0m\u001b[0;34m\u001b[0m\u001b[0m\n\u001b[0m\u001b[1;32m      3\u001b[0m \u001b[0mprint\u001b[0m\u001b[0;34m(\u001b[0m\u001b[0;34m'--> Stacked Test Accuracy: %.3f'\u001b[0m \u001b[0;34m%\u001b[0m \u001b[0macc\u001b[0m\u001b[0;34m)\u001b[0m\u001b[0;34m\u001b[0m\u001b[0;34m\u001b[0m\u001b[0m\n",
            "\u001b[0;32m<ipython-input-31-727b32f2b4b9>\u001b[0m in \u001b[0;36mr2_score\u001b[0;34m(y_true, y_pred)\u001b[0m\n\u001b[1;32m      3\u001b[0m \u001b[0;32mdef\u001b[0m \u001b[0mr2_score\u001b[0m\u001b[0;34m(\u001b[0m\u001b[0my_true\u001b[0m\u001b[0;34m,\u001b[0m \u001b[0my_pred\u001b[0m\u001b[0;34m)\u001b[0m\u001b[0;34m:\u001b[0m\u001b[0;34m\u001b[0m\u001b[0;34m\u001b[0m\u001b[0m\n\u001b[1;32m      4\u001b[0m     \u001b[0mSS_res\u001b[0m \u001b[0;34m=\u001b[0m  \u001b[0mK\u001b[0m\u001b[0;34m.\u001b[0m\u001b[0msum\u001b[0m\u001b[0;34m(\u001b[0m\u001b[0mK\u001b[0m\u001b[0;34m.\u001b[0m\u001b[0msquare\u001b[0m\u001b[0;34m(\u001b[0m\u001b[0my_true\u001b[0m\u001b[0;34m-\u001b[0m\u001b[0my_pred\u001b[0m\u001b[0;34m)\u001b[0m\u001b[0;34m)\u001b[0m\u001b[0;34m\u001b[0m\u001b[0;34m\u001b[0m\u001b[0m\n\u001b[0;32m----> 5\u001b[0;31m     \u001b[0mSS_tot\u001b[0m \u001b[0;34m=\u001b[0m \u001b[0mK\u001b[0m\u001b[0;34m.\u001b[0m\u001b[0msum\u001b[0m\u001b[0;34m(\u001b[0m\u001b[0mK\u001b[0m\u001b[0;34m.\u001b[0m\u001b[0msquare\u001b[0m\u001b[0;34m(\u001b[0m\u001b[0my_true\u001b[0m \u001b[0;34m-\u001b[0m \u001b[0mK\u001b[0m\u001b[0;34m.\u001b[0m\u001b[0mmean\u001b[0m\u001b[0;34m(\u001b[0m\u001b[0my_true\u001b[0m\u001b[0;34m)\u001b[0m\u001b[0;34m)\u001b[0m\u001b[0;34m)\u001b[0m\u001b[0;34m\u001b[0m\u001b[0;34m\u001b[0m\u001b[0m\n\u001b[0m\u001b[1;32m      6\u001b[0m     \u001b[0;32mreturn\u001b[0m \u001b[0;34m(\u001b[0m\u001b[0;36m1\u001b[0m \u001b[0;34m-\u001b[0m \u001b[0mSS_res\u001b[0m\u001b[0;34m/\u001b[0m\u001b[0;34m(\u001b[0m\u001b[0mSS_tot\u001b[0m \u001b[0;34m+\u001b[0m \u001b[0mK\u001b[0m\u001b[0;34m.\u001b[0m\u001b[0mepsilon\u001b[0m\u001b[0;34m(\u001b[0m\u001b[0;34m)\u001b[0m\u001b[0;34m)\u001b[0m\u001b[0;34m)\u001b[0m\u001b[0;34m\u001b[0m\u001b[0;34m\u001b[0m\u001b[0m\n",
            "\u001b[0;32m/usr/local/lib/python3.6/dist-packages/keras/backend/tensorflow_backend.py\u001b[0m in \u001b[0;36mmean\u001b[0;34m(x, axis, keepdims)\u001b[0m\n\u001b[1;32m   1570\u001b[0m     \u001b[0;34m{\u001b[0m\u001b[0;34m{\u001b[0m\u001b[0mnp_implementation\u001b[0m\u001b[0;34m}\u001b[0m\u001b[0;34m}\u001b[0m\u001b[0;34m\u001b[0m\u001b[0;34m\u001b[0m\u001b[0m\n\u001b[1;32m   1571\u001b[0m     \"\"\"\n\u001b[0;32m-> 1572\u001b[0;31m     \u001b[0;32mif\u001b[0m \u001b[0mx\u001b[0m\u001b[0;34m.\u001b[0m\u001b[0mdtype\u001b[0m\u001b[0;34m.\u001b[0m\u001b[0mbase_dtype\u001b[0m \u001b[0;34m==\u001b[0m \u001b[0mtf\u001b[0m\u001b[0;34m.\u001b[0m\u001b[0mbool\u001b[0m\u001b[0;34m:\u001b[0m\u001b[0;34m\u001b[0m\u001b[0;34m\u001b[0m\u001b[0m\n\u001b[0m\u001b[1;32m   1573\u001b[0m         \u001b[0mx\u001b[0m \u001b[0;34m=\u001b[0m \u001b[0mtf\u001b[0m\u001b[0;34m.\u001b[0m\u001b[0mcast\u001b[0m\u001b[0;34m(\u001b[0m\u001b[0mx\u001b[0m\u001b[0;34m,\u001b[0m \u001b[0mfloatx\u001b[0m\u001b[0;34m(\u001b[0m\u001b[0;34m)\u001b[0m\u001b[0;34m)\u001b[0m\u001b[0;34m\u001b[0m\u001b[0;34m\u001b[0m\u001b[0m\n\u001b[1;32m   1574\u001b[0m     \u001b[0;32mreturn\u001b[0m \u001b[0mtf\u001b[0m\u001b[0;34m.\u001b[0m\u001b[0mreduce_mean\u001b[0m\u001b[0;34m(\u001b[0m\u001b[0mx\u001b[0m\u001b[0;34m,\u001b[0m \u001b[0maxis\u001b[0m\u001b[0;34m,\u001b[0m \u001b[0mkeepdims\u001b[0m\u001b[0;34m)\u001b[0m\u001b[0;34m\u001b[0m\u001b[0;34m\u001b[0m\u001b[0m\n",
            "\u001b[0;31mAttributeError\u001b[0m: 'numpy.dtype' object has no attribute 'base_dtype'"
          ]
        }
      ]
    },
    {
      "cell_type": "code",
      "metadata": {
        "id": "rM6ahGKGwycI",
        "colab_type": "code",
        "colab": {}
      },
      "source": [
        "# model = Sequential()\n",
        "# model.add(Conv1D(filters=64, kernel_size=3, activation='relu', input_shape=(28,28)))\n",
        "# model.add(Conv1D(filters=64, kernel_size=3, activation='relu'))\n",
        "# model.add(MaxPooling1D(pool_size=2))\n",
        "# model.add(Flatten())\n",
        "# model.add(RepeatVector(1))\n",
        "# model.add(LSTM(200, activation='relu', return_sequences=True))\n",
        "# model.add(TimeDistributed(Dense(100, activation='relu')))\n",
        "# model.add(TimeDistributed(Dense(1)))\n",
        "# model.compile(loss= mane_loss, optimizer='adam',metrics = [\"accuracy\", r2])\n",
        "# # fit network\n",
        "# history = model.fit(x_train, y_train, epochs=30, batch_size=5, validation_split = 0.1)\n",
        "\n",
        "# pyplot.plot(history.history['loss'])\n",
        "# pyplot.plot(history.history['val_loss'])\n",
        "# pyplot.title('model train vs validation loss')\n",
        "# pyplot.ylabel('loss')\n",
        "# pyplot.xlabel('epoch')\n",
        "# pyplot.legend(['train', 'validation'], loc='upper right')\n",
        "# pyplot.show()"
      ],
      "execution_count": 0,
      "outputs": []
    },
    {
      "cell_type": "code",
      "metadata": {
        "id": "7nFCtb0WsnNW",
        "colab_type": "code",
        "colab": {
          "base_uri": "https://localhost:8080/",
          "height": 34
        },
        "outputId": "42b01121-2de9-49b2-d5d1-5061679346df"
      },
      "source": [
        "test_x.shape"
      ],
      "execution_count": 88,
      "outputs": [
        {
          "output_type": "execute_result",
          "data": {
            "text/plain": [
              "(28499, 128, 1)"
            ]
          },
          "metadata": {
            "tags": []
          },
          "execution_count": 88
        }
      ]
    },
    {
      "cell_type": "code",
      "metadata": {
        "id": "z-K24VZ1wycM",
        "colab_type": "code",
        "colab": {
          "base_uri": "https://localhost:8080/",
          "height": 402
        },
        "outputId": "4422d71b-e977-45eb-ea9c-f4e550c0b862"
      },
      "source": [
        "    y_pred = model.predict(test_x)\n",
        "    y_pred = y_pred.reshape((-1,1))\n",
        "    test_y  = test_y.reshape((-1,1))\n",
        "    mse = mean_squared_error(test_y,y_pred)\n",
        "    rms = sqrt(mse)\n",
        "    mae = mean_absolute_error(test_y,y_pred)\n",
        "    print(\"mean_squared_error : \",mse)\n",
        "    print(\"root_mean_squared_error : \",rms)\n",
        "    print(\"mean_absolute_error : \",mae)\n",
        "    #errors_saver[\"errors_equipment{}\".format(i+1)] = {\"mean_squared_error\":mse,\"mean_absolute_error\":mae,\"root_mean_squared_error\":rms}\n",
        "    y_pred = sc.inverse_transform(y_pred)\n",
        "    test_y = sc.inverse_transform(test_y)\n",
        "\n",
        "\n",
        "    l=0\n",
        "    while l<len(test_y)-7:\n",
        "        plt.scatter([1,2,3,4,5,6,7],y_pred[l:l+7,:],color  = \"cyan\",label = \"predicted_day\")\n",
        "        #plt.savefig(\"equipment2_day(prediction){}\".format(i//288))\n",
        "        #plt.legend()\n",
        "        #plt.show()\n",
        "        plt.scatter([1,2,3,4,5,6,7],test_y[l:l+7,:],color = \"blue\",label = \"real_values\")\n",
        "        plt.legend()\n",
        "        plt.xlabel(\"day\")\n",
        "        plt.ylabel(\"power_consumption\")\n",
        "        #plt.savefig(\"equipment9_day{}.png\".format(i//24))\n",
        "        plt.show()\n",
        "        l = l+7"
      ],
      "execution_count": 87,
      "outputs": [
        {
          "output_type": "error",
          "ename": "ValueError",
          "evalue": "ignored",
          "traceback": [
            "\u001b[0;31m---------------------------------------------------------------------------\u001b[0m",
            "\u001b[0;31mValueError\u001b[0m                                Traceback (most recent call last)",
            "\u001b[0;32m<ipython-input-87-cc41d82cc23a>\u001b[0m in \u001b[0;36m<module>\u001b[0;34m()\u001b[0m\n\u001b[0;32m----> 1\u001b[0;31m \u001b[0my_pred\u001b[0m \u001b[0;34m=\u001b[0m \u001b[0mmodel\u001b[0m\u001b[0;34m.\u001b[0m\u001b[0mpredict\u001b[0m\u001b[0;34m(\u001b[0m\u001b[0mtest_x\u001b[0m\u001b[0;34m)\u001b[0m\u001b[0;34m\u001b[0m\u001b[0;34m\u001b[0m\u001b[0m\n\u001b[0m\u001b[1;32m      2\u001b[0m \u001b[0my_pred\u001b[0m \u001b[0;34m=\u001b[0m \u001b[0my_pred\u001b[0m\u001b[0;34m.\u001b[0m\u001b[0mreshape\u001b[0m\u001b[0;34m(\u001b[0m\u001b[0;34m(\u001b[0m\u001b[0;34m-\u001b[0m\u001b[0;36m1\u001b[0m\u001b[0;34m,\u001b[0m\u001b[0;36m1\u001b[0m\u001b[0;34m)\u001b[0m\u001b[0;34m)\u001b[0m\u001b[0;34m\u001b[0m\u001b[0;34m\u001b[0m\u001b[0m\n\u001b[1;32m      3\u001b[0m \u001b[0mtest_y\u001b[0m  \u001b[0;34m=\u001b[0m \u001b[0mtest_y\u001b[0m\u001b[0;34m.\u001b[0m\u001b[0mreshape\u001b[0m\u001b[0;34m(\u001b[0m\u001b[0;34m(\u001b[0m\u001b[0;34m-\u001b[0m\u001b[0;36m1\u001b[0m\u001b[0;34m,\u001b[0m\u001b[0;36m1\u001b[0m\u001b[0;34m)\u001b[0m\u001b[0;34m)\u001b[0m\u001b[0;34m\u001b[0m\u001b[0;34m\u001b[0m\u001b[0m\n\u001b[1;32m      4\u001b[0m \u001b[0mmse\u001b[0m \u001b[0;34m=\u001b[0m \u001b[0mmean_squared_error\u001b[0m\u001b[0;34m(\u001b[0m\u001b[0mtest_y\u001b[0m\u001b[0;34m,\u001b[0m\u001b[0my_pred\u001b[0m\u001b[0;34m)\u001b[0m\u001b[0;34m\u001b[0m\u001b[0;34m\u001b[0m\u001b[0m\n\u001b[1;32m      5\u001b[0m \u001b[0mrms\u001b[0m \u001b[0;34m=\u001b[0m \u001b[0msqrt\u001b[0m\u001b[0;34m(\u001b[0m\u001b[0mmse\u001b[0m\u001b[0;34m)\u001b[0m\u001b[0;34m\u001b[0m\u001b[0;34m\u001b[0m\u001b[0m\n",
            "\u001b[0;32m/usr/local/lib/python3.6/dist-packages/xgboost/sklearn.py\u001b[0m in \u001b[0;36mpredict\u001b[0;34m(self, data, output_margin, ntree_limit, validate_features)\u001b[0m\n\u001b[1;32m    446\u001b[0m         \"\"\"\n\u001b[1;32m    447\u001b[0m         \u001b[0;31m# pylint: disable=missing-docstring,invalid-name\u001b[0m\u001b[0;34m\u001b[0m\u001b[0;34m\u001b[0m\u001b[0;34m\u001b[0m\u001b[0m\n\u001b[0;32m--> 448\u001b[0;31m         \u001b[0mtest_dmatrix\u001b[0m \u001b[0;34m=\u001b[0m \u001b[0mDMatrix\u001b[0m\u001b[0;34m(\u001b[0m\u001b[0mdata\u001b[0m\u001b[0;34m,\u001b[0m \u001b[0mmissing\u001b[0m\u001b[0;34m=\u001b[0m\u001b[0mself\u001b[0m\u001b[0;34m.\u001b[0m\u001b[0mmissing\u001b[0m\u001b[0;34m,\u001b[0m \u001b[0mnthread\u001b[0m\u001b[0;34m=\u001b[0m\u001b[0mself\u001b[0m\u001b[0;34m.\u001b[0m\u001b[0mn_jobs\u001b[0m\u001b[0;34m)\u001b[0m\u001b[0;34m\u001b[0m\u001b[0;34m\u001b[0m\u001b[0m\n\u001b[0m\u001b[1;32m    449\u001b[0m         \u001b[0;31m# get ntree_limit to use - if none specified, default to\u001b[0m\u001b[0;34m\u001b[0m\u001b[0;34m\u001b[0m\u001b[0;34m\u001b[0m\u001b[0m\n\u001b[1;32m    450\u001b[0m         \u001b[0;31m# best_ntree_limit if defined, otherwise 0.\u001b[0m\u001b[0;34m\u001b[0m\u001b[0;34m\u001b[0m\u001b[0;34m\u001b[0m\u001b[0m\n",
            "\u001b[0;32m/usr/local/lib/python3.6/dist-packages/xgboost/core.py\u001b[0m in \u001b[0;36m__init__\u001b[0;34m(self, data, label, missing, weight, silent, feature_names, feature_types, nthread)\u001b[0m\n\u001b[1;32m    402\u001b[0m             \u001b[0mself\u001b[0m\u001b[0;34m.\u001b[0m\u001b[0m_init_from_csc\u001b[0m\u001b[0;34m(\u001b[0m\u001b[0mdata\u001b[0m\u001b[0;34m)\u001b[0m\u001b[0;34m\u001b[0m\u001b[0;34m\u001b[0m\u001b[0m\n\u001b[1;32m    403\u001b[0m         \u001b[0;32melif\u001b[0m \u001b[0misinstance\u001b[0m\u001b[0;34m(\u001b[0m\u001b[0mdata\u001b[0m\u001b[0;34m,\u001b[0m \u001b[0mnp\u001b[0m\u001b[0;34m.\u001b[0m\u001b[0mndarray\u001b[0m\u001b[0;34m)\u001b[0m\u001b[0;34m:\u001b[0m\u001b[0;34m\u001b[0m\u001b[0;34m\u001b[0m\u001b[0m\n\u001b[0;32m--> 404\u001b[0;31m             \u001b[0mself\u001b[0m\u001b[0;34m.\u001b[0m\u001b[0m_init_from_npy2d\u001b[0m\u001b[0;34m(\u001b[0m\u001b[0mdata\u001b[0m\u001b[0;34m,\u001b[0m \u001b[0mmissing\u001b[0m\u001b[0;34m,\u001b[0m \u001b[0mnthread\u001b[0m\u001b[0;34m)\u001b[0m\u001b[0;34m\u001b[0m\u001b[0;34m\u001b[0m\u001b[0m\n\u001b[0m\u001b[1;32m    405\u001b[0m         \u001b[0;32melif\u001b[0m \u001b[0misinstance\u001b[0m\u001b[0;34m(\u001b[0m\u001b[0mdata\u001b[0m\u001b[0;34m,\u001b[0m \u001b[0mDataTable\u001b[0m\u001b[0;34m)\u001b[0m\u001b[0;34m:\u001b[0m\u001b[0;34m\u001b[0m\u001b[0;34m\u001b[0m\u001b[0m\n\u001b[1;32m    406\u001b[0m             \u001b[0mself\u001b[0m\u001b[0;34m.\u001b[0m\u001b[0m_init_from_dt\u001b[0m\u001b[0;34m(\u001b[0m\u001b[0mdata\u001b[0m\u001b[0;34m,\u001b[0m \u001b[0mnthread\u001b[0m\u001b[0;34m)\u001b[0m\u001b[0;34m\u001b[0m\u001b[0;34m\u001b[0m\u001b[0m\n",
            "\u001b[0;32m/usr/local/lib/python3.6/dist-packages/xgboost/core.py\u001b[0m in \u001b[0;36m_init_from_npy2d\u001b[0;34m(self, mat, missing, nthread)\u001b[0m\n\u001b[1;32m    472\u001b[0m         \"\"\"\n\u001b[1;32m    473\u001b[0m         \u001b[0;32mif\u001b[0m \u001b[0mlen\u001b[0m\u001b[0;34m(\u001b[0m\u001b[0mmat\u001b[0m\u001b[0;34m.\u001b[0m\u001b[0mshape\u001b[0m\u001b[0;34m)\u001b[0m \u001b[0;34m!=\u001b[0m \u001b[0;36m2\u001b[0m\u001b[0;34m:\u001b[0m\u001b[0;34m\u001b[0m\u001b[0;34m\u001b[0m\u001b[0m\n\u001b[0;32m--> 474\u001b[0;31m             \u001b[0;32mraise\u001b[0m \u001b[0mValueError\u001b[0m\u001b[0;34m(\u001b[0m\u001b[0;34m'Input numpy.ndarray must be 2 dimensional'\u001b[0m\u001b[0;34m)\u001b[0m\u001b[0;34m\u001b[0m\u001b[0;34m\u001b[0m\u001b[0m\n\u001b[0m\u001b[1;32m    475\u001b[0m         \u001b[0;31m# flatten the array by rows and ensure it is float32.\u001b[0m\u001b[0;34m\u001b[0m\u001b[0;34m\u001b[0m\u001b[0;34m\u001b[0m\u001b[0m\n\u001b[1;32m    476\u001b[0m         \u001b[0;31m# we try to avoid data copies if possible (reshape returns a view when possible\u001b[0m\u001b[0;34m\u001b[0m\u001b[0;34m\u001b[0m\u001b[0;34m\u001b[0m\u001b[0m\n",
            "\u001b[0;31mValueError\u001b[0m: Input numpy.ndarray must be 2 dimensional"
          ]
        }
      ]
    }
  ]
}